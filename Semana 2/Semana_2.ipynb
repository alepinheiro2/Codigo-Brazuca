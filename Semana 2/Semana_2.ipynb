{
  "nbformat": 4,
  "nbformat_minor": 0,
  "metadata": {
    "colab": {
      "provenance": []
    },
    "kernelspec": {
      "name": "python3",
      "display_name": "Python 3"
    },
    "language_info": {
      "name": "python"
    }
  },
  "cells": [
    {
      "cell_type": "code",
      "execution_count": null,
      "metadata": {
        "id": "zBzCRfxrjKZg"
      },
      "outputs": [],
      "source": [
        "# Atividade 01 - Escreva um programa que imprima seu nome e sua cidade natal.\n",
        "print(\"Alessandro, Rio de Janeiro-RJ\")"
      ]
    },
    {
      "cell_type": "code",
      "source": [
        "# Atividade 02 - Crie um programa que pergunte ao usuário seu filme favorito e o ano em que foi lançado, e depois imprima uma mensagem usando essas informações.\n",
        "filme = input(\"Qual é seu filme favorito? \")\n",
        "ano = input(\"Em que ano ele foi lançado? \")\n",
        "\n",
        "print(\"O seu filme favorito \" +filme+ \", foi lançado em \" +ano+ \".\")"
      ],
      "metadata": {
        "id": "XQb-pOczzjxb",
        "colab": {
          "base_uri": "https://localhost:8080/"
        },
        "outputId": "6e4b5f02-dad4-414a-9bf9-27d4e8242433"
      },
      "execution_count": 1,
      "outputs": [
        {
          "output_type": "stream",
          "name": "stdout",
          "text": [
            "Qual é seu filme favorito? Star wars Retorno do Jedi\n",
            "Em que ano ele foi lançado? 1983\n",
            "O seu filme favorito Star wars Retorno do Jedi, foi lançado em 1983.\n"
          ]
        }
      ]
    },
    {
      "cell_type": "code",
      "source": [
        "# Atividade 03 - Escreva um programa que peça dois números ao usuário e exiba a soma, subtração, multiplicação e divisão deles.\n",
        "\n",
        "a = int(input(\"Insira o primeiro número: \"))\n",
        "b = int(input(\"Insira o segundo número:\"))\n",
        "\n",
        "\n",
        "soma = a + b\n",
        "sub = a - b\n",
        "prod = a * b\n",
        "div = a / b\n",
        "\n",
        "print(\"\\nSoma:\", soma, \"\\nSubtração:\", sub, \"\\nMultiplicação:\", prod, \"\\nDivisão:\", div)"
      ],
      "metadata": {
        "id": "a7ptLoV70wvU",
        "colab": {
          "base_uri": "https://localhost:8080/"
        },
        "outputId": "41c1c8d7-ad69-45b1-80a1-772c854b106f"
      },
      "execution_count": 3,
      "outputs": [
        {
          "output_type": "stream",
          "name": "stdout",
          "text": [
            "Insira o primeiro número: 10\n",
            "Insira o segundo número:20\n",
            "\n",
            "Soma: 30 \n",
            "Subtração: -10 \n",
            "Multiplicação: 200 \n",
            "Divisão: 0.5\n"
          ]
        }
      ]
    },
    {
      "cell_type": "code",
      "source": [
        "# Atividade 04 - Escreva um programa que peça a temperatura atual e diga se está quente (acima de 30°C), frio (abaixo de 15°C) ou agradável (entre 15°C e 30°C).\n",
        "\n",
        "t = float(input(\"Insira a temperatura atual: \"))\n",
        "\n",
        "if t > 30:\n",
        "    print(\"Está quente.\")\n",
        "\n",
        "elif t < 15:\n",
        "    print(\"Está frio.\")\n",
        "\n",
        "else:\n",
        "    print(\"Está agradável.\")"
      ],
      "metadata": {
        "id": "-Lw_l9i-6LJc",
        "colab": {
          "base_uri": "https://localhost:8080/"
        },
        "outputId": "526e61dd-7a47-49c9-eae5-283e39a30ce8"
      },
      "execution_count": 4,
      "outputs": [
        {
          "output_type": "stream",
          "name": "stdout",
          "text": [
            "Insira a temperatura atual: 30\n",
            "Está agradável.\n"
          ]
        }
      ]
    },
    {
      "cell_type": "code",
      "source": [
        "# Atividade 05 - Escreva um programa que conte de 1 a 10 e imprima apenas os números pares.\n",
        "\n",
        "for i in range(1, 11):\n",
        "    if i % 2 == 0:\n",
        "     print(i)\n",
        "\n"
      ],
      "metadata": {
        "id": "NJzWwyKH8qpJ",
        "colab": {
          "base_uri": "https://localhost:8080/"
        },
        "outputId": "94822b31-5962-4626-93f5-bafd7c61b06c"
      },
      "execution_count": null,
      "outputs": [
        {
          "output_type": "stream",
          "name": "stdout",
          "text": [
            "2\n",
            "4\n",
            "6\n",
            "8\n",
            "10\n"
          ]
        }
      ]
    },
    {
      "cell_type": "code",
      "source": [
        "# Atividade 06 - Crie um programa que pergunte ao usuário por números até que ele digite zero e então mostre a soma dos números digitados.\n",
        "\n",
        "soma = 0\n",
        "n = 1\n",
        "\n",
        "while n != 0:\n",
        "    n = float(input(\"Insira os números para serem somados ou 0 para finalizar: \"))\n",
        "    soma += n\n",
        "\n",
        "print(\"A soma dos números digitados é:\", soma)\n"
      ],
      "metadata": {
        "id": "YVIcO9wi_KDz",
        "colab": {
          "base_uri": "https://localhost:8080/"
        },
        "outputId": "f2a1540b-04b5-413f-93d1-608677a044fa"
      },
      "execution_count": 5,
      "outputs": [
        {
          "output_type": "stream",
          "name": "stdout",
          "text": [
            "Insira os números para serem somados ou 0 para finalizar: 2\n",
            "Insira os números para serem somados ou 0 para finalizar: 5\n",
            "Insira os números para serem somados ou 0 para finalizar: 10\n",
            "Insira os números para serem somados ou 0 para finalizar: 0\n",
            "A soma dos números digitados é: 17.0\n"
          ]
        }
      ]
    },
    {
      "cell_type": "code",
      "source": [
        "# Atividade 07 - Crie uma lista de compras que permita ao usuário adicionar itens e, em seguida, imprimir a lista completa.\n",
        "\n",
        "lista = []\n",
        "item = \"\"\n",
        "\n",
        "while item != \"fim\":\n",
        "  item = input(\"Digite o item da lista ou 'fim' para finalizar: \")\n",
        "  if item != \"fim\":\n",
        "    lista.append(item)\n",
        "\n",
        "for item in lista:\n",
        " print(\"-\", item)"
      ],
      "metadata": {
        "colab": {
          "base_uri": "https://localhost:8080/"
        },
        "id": "4yr8164dc_3U",
        "outputId": "2711675f-a9be-4772-e25a-9e1b4ba09c21"
      },
      "execution_count": 6,
      "outputs": [
        {
          "output_type": "stream",
          "name": "stdout",
          "text": [
            "Digite o item da lista ou 'fim' para finalizar: Batata\n",
            "Digite o item da lista ou 'fim' para finalizar: Arroz\n",
            "Digite o item da lista ou 'fim' para finalizar: Feijão\n",
            "Digite o item da lista ou 'fim' para finalizar: Cenoura\n",
            "Digite o item da lista ou 'fim' para finalizar: Macarrão\n",
            "Digite o item da lista ou 'fim' para finalizar: fim\n",
            "- Batata\n",
            "- Arroz\n",
            "- Feijão\n",
            "- Cenoura\n",
            "- Macarrão\n"
          ]
        }
      ]
    },
    {
      "cell_type": "code",
      "source": [
        "# Atividade 08 - Escreva uma função que receba um número e retorne se ele é par ou ímpar.\n",
        "\n",
        "def par_impar(numero):\n",
        "    if numero % 2 == 0:\n",
        "        print(numero, \"é Par.\")\n",
        "    else:\n",
        "        print(numero, \"é Ímpar.\")\n",
        "\n",
        "par_impar(50)\n",
        "\n"
      ],
      "metadata": {
        "colab": {
          "base_uri": "https://localhost:8080/"
        },
        "id": "LJC-CYDgA90X",
        "outputId": "c5b9ea4b-17a1-416c-ae32-e79ca7f1a873"
      },
      "execution_count": 8,
      "outputs": [
        {
          "output_type": "stream",
          "name": "stdout",
          "text": [
            "50 é Par.\n"
          ]
        }
      ]
    },
    {
      "cell_type": "code",
      "source": [
        "# Atividade 09 - Escreva um programa que peça uma frase ao usuário e conte quantas vezes uma letra específica aparece.\n",
        "\n",
        "texto = input(\"Insira a frase: \")\n",
        "l = input(\"Qual letra? \")\n",
        "contador = 0\n",
        "\n",
        "for letra in texto:\n",
        "  if letra.lower() == l.lower():\n",
        "    contador += 1\n",
        "\n",
        "print(f'A letra \"{l}\" aparece {contador} vez(es) na frase.')"
      ],
      "metadata": {
        "colab": {
          "base_uri": "https://localhost:8080/"
        },
        "id": "QNfA4svcBOmd",
        "outputId": "e63f1dc0-22bd-4fb6-eca2-82539fc8eb13"
      },
      "execution_count": 9,
      "outputs": [
        {
          "output_type": "stream",
          "name": "stdout",
          "text": [
            "Insira a frase: Eu te amo.\n",
            "Qual letra? a\n",
            "A letra \"a\" aparece 1 vez(es) na frase.\n"
          ]
        }
      ]
    },
    {
      "cell_type": "code",
      "source": [
        "# Atividade 10 - Crie um programa que encontre e imprima todos os números primos em um intervalo definido pelo usuário.\n",
        "\n",
        "ini = int(input(\"Insira o primeiro número do intervalo: \"))\n",
        "fim = int(input(\"Insira o último número do intervalo: \"))\n",
        "\n",
        "def eh_primo(numero):\n",
        " if numero <= 1:\n",
        "  return False\n",
        " for i in range(2, int(numero ** 0.5) + 1):\n",
        "  if numero % i == 0:\n",
        "    return False\n",
        " return True\n",
        "\n",
        "if ini <= fim:\n",
        "  print(f\"Entre {ini} e {fim}, é(são) primo(s):\")\n",
        "  for numero in range(ini, fim+1):\n",
        "    if eh_primo(numero):\n",
        "        print(numero)\n",
        "else:\n",
        "  print(\"Intervalo indevido.\")\n",
        "\n"
      ],
      "metadata": {
        "colab": {
          "base_uri": "https://localhost:8080/"
        },
        "id": "O84uWwPzbeS0",
        "outputId": "3e65d681-e09d-4eac-e17e-ddfbc73fedf3"
      },
      "execution_count": 11,
      "outputs": [
        {
          "output_type": "stream",
          "name": "stdout",
          "text": [
            "Insira o primeiro número do intervalo: 1\n",
            "Insira o último número do intervalo: 199\n",
            "Entre 1 e 199, é(são) primo(s):\n",
            "2\n",
            "3\n",
            "5\n",
            "7\n",
            "11\n",
            "13\n",
            "17\n",
            "19\n",
            "23\n",
            "29\n",
            "31\n",
            "37\n",
            "41\n",
            "43\n",
            "47\n",
            "53\n",
            "59\n",
            "61\n",
            "67\n",
            "71\n",
            "73\n",
            "79\n",
            "83\n",
            "89\n",
            "97\n",
            "101\n",
            "103\n",
            "107\n",
            "109\n",
            "113\n",
            "127\n",
            "131\n",
            "137\n",
            "139\n",
            "149\n",
            "151\n",
            "157\n",
            "163\n",
            "167\n",
            "173\n",
            "179\n",
            "181\n",
            "191\n",
            "193\n",
            "197\n",
            "199\n"
          ]
        }
      ]
    }
  ]
}