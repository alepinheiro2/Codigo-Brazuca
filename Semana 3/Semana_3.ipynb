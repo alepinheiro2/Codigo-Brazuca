{
  "nbformat": 4,
  "nbformat_minor": 0,
  "metadata": {
    "colab": {
      "provenance": []
    },
    "kernelspec": {
      "name": "python3",
      "display_name": "Python 3"
    },
    "language_info": {
      "name": "python"
    }
  },
  "cells": [
    {
      "cell_type": "code",
      "source": [
        "# Atividade 01 - Calculando o Fatorial\n",
        "\n",
        "def fatorial(n):\n",
        "  resultado = 1\n",
        "  for i in range(2, n + 1):\n",
        "    resultado *= i\n",
        "  return resultado\n",
        "\n",
        "numero = int(input(\"Insira um número: \"))\n",
        "resultado = fatorial(numero)\n",
        "print(f\"{numero}! = {resultado}\")"
      ],
      "metadata": {
        "colab": {
          "base_uri": "https://localhost:8080/"
        },
        "id": "Xq1_zvm62lxh",
        "outputId": "75a32480-6807-4170-d559-e3098e344645"
      },
      "execution_count": 1,
      "outputs": [
        {
          "output_type": "stream",
          "name": "stdout",
          "text": [
            "Insira um número: 7\n",
            "7! = 5040\n"
          ]
        }
      ]
    },
    {
      "cell_type": "code",
      "source": [
        "# Atividade 02 - Conversão de Temperaturas\n",
        "\n",
        "def converter(t):\n",
        "  f = t * 9/5 + 32\n",
        "  k = t + 273.15\n",
        "  return f, k\n",
        "\n",
        "temperatura = float(input(\"Insira uma temperatura em Celcius: \"))\n",
        "fahrenheit, kelvin = converter(temperatura)\n",
        "print(f\"{temperatura}°C é equivalente a {fahrenheit}°F e {kelvin}K.\")"
      ],
      "metadata": {
        "colab": {
          "base_uri": "https://localhost:8080/"
        },
        "id": "IeMaA5W_J7Ey",
        "outputId": "d69c0029-ffb2-40e6-85f0-2275c8aacdf9"
      },
      "execution_count": 2,
      "outputs": [
        {
          "output_type": "stream",
          "name": "stdout",
          "text": [
            "Insira uma temperatura em Celcius: 40\n",
            "40.0°C é equivalente a 104.0°F e 313.15K.\n"
          ]
        }
      ]
    },
    {
      "cell_type": "code",
      "source": [
        "# Atividade 03 - Cálculo de IMC\n",
        "\n",
        "peso = float(input(\"Peso em kg: \"))\n",
        "altura = float(input(\"Altura em m: \"))\n",
        "\n",
        "imc = peso / (altura * altura)\n",
        "print(f\"Seu IMC é: {imc:.2f}\")"
      ],
      "metadata": {
        "colab": {
          "base_uri": "https://localhost:8080/"
        },
        "id": "UA2sfzRsOHX1",
        "outputId": "cf5f7f7f-3445-4b50-d378-c6271f2b967b"
      },
      "execution_count": 4,
      "outputs": [
        {
          "output_type": "stream",
          "name": "stdout",
          "text": [
            "Peso em kg: 90\n",
            "Altura em m: 1.80\n",
            "Seu IMC é: 27.78\n"
          ]
        }
      ]
    },
    {
      "cell_type": "code",
      "source": [
        "# Atividade 04 - Verificação de Palíndromo\n",
        "\n",
        "def palindromo(string):\n",
        "\n",
        "  string_invertida = string[::-1]\n",
        "  if string_invertida.lower() == string.lower():\n",
        "    return True\n",
        "  else:\n",
        "    return False\n",
        "\n",
        "palavra = input(\"Digite a palavra para saber se é um palíndromo: \")\n",
        "if palindromo(palavra):\n",
        "  print(f\"A palavra '{palavra}' é um palíndromo.\")\n",
        "else:\n",
        "  print(f\"A palavra '{palavra}' não é um palíndromo.\")\n"
      ],
      "metadata": {
        "colab": {
          "base_uri": "https://localhost:8080/"
        },
        "id": "Sc-nkavhtCPv",
        "outputId": "c0e53c34-264e-4dee-95f0-9ad11694ef8a"
      },
      "execution_count": 7,
      "outputs": [
        {
          "output_type": "stream",
          "name": "stdout",
          "text": [
            "Digite a palavra para saber se é um palíndromo: Radar\n",
            "A palavra 'Radar' é um palíndromo.\n"
          ]
        }
      ]
    },
    {
      "cell_type": "code",
      "source": [
        "# Atividade 05 - Tabuada\n",
        "\n",
        "def tabuada(n):\n",
        "  for i in range(1,11):\n",
        "    print(n, \"x\", i,\"=\", n * i)\n",
        "\n",
        "numero = int(input(\"Insira o número: \"))\n",
        "tabuada(numero)"
      ],
      "metadata": {
        "colab": {
          "base_uri": "https://localhost:8080/"
        },
        "id": "T1jJTWxGv8iv",
        "outputId": "91ce3989-7b12-4466-b39c-5136e25f4980"
      },
      "execution_count": 8,
      "outputs": [
        {
          "output_type": "stream",
          "name": "stdout",
          "text": [
            "Insira o número: 4\n",
            "4 x 1 = 4\n",
            "4 x 2 = 8\n",
            "4 x 3 = 12\n",
            "4 x 4 = 16\n",
            "4 x 5 = 20\n",
            "4 x 6 = 24\n",
            "4 x 7 = 28\n",
            "4 x 8 = 32\n",
            "4 x 9 = 36\n",
            "4 x 10 = 40\n"
          ]
        }
      ]
    },
    {
      "cell_type": "code",
      "source": [
        "# Atividade 06 - Contagem de Vogais\n",
        "\n",
        "def contagem(texto):\n",
        "  contador = 0\n",
        "  vogais = \"aeiouáéíóúàèìòùãõâêîôû\"\n",
        "  for letra in texto:\n",
        "    if letra.lower() in vogais:\n",
        "     contador += 1\n",
        "  return contador\n",
        "\n",
        "frase = input(\"Digite uma frase: \")\n",
        "print(f\"Nessa frase há {contagem(frase)} vogais.\")"
      ],
      "metadata": {
        "colab": {
          "base_uri": "https://localhost:8080/"
        },
        "id": "UG1UOfjZMLaW",
        "outputId": "431225ba-0c68-4109-ed45-131e85d7dab0"
      },
      "execution_count": 9,
      "outputs": [
        {
          "output_type": "stream",
          "name": "stdout",
          "text": [
            "Digite uma frase: O rato roeu a roupa do rei de roma\n",
            "Nessa frase há 16 vogais.\n"
          ]
        }
      ]
    },
    {
      "cell_type": "code",
      "source": [
        "# Atividade 07 - Média de Notas\n",
        "\n",
        "def media():\n",
        "  notas = []\n",
        "  n = 1\n",
        "  while n != -1:\n",
        "    n = float(input(\"Insira uma nota ou -1 para finalizar: \"))\n",
        "    if n != -1:\n",
        "      notas.append(n)\n",
        "  if len(notas) > 0:\n",
        "    resultado = sum(notas) / len(notas)\n",
        "    return resultado\n",
        "  else:\n",
        "    return 0\n",
        "\n",
        "resultado = media()\n",
        "print(f\"A média das notas é: {resultado:.2f}\")"
      ],
      "metadata": {
        "colab": {
          "base_uri": "https://localhost:8080/"
        },
        "id": "P2tapQiNkODZ",
        "outputId": "049f78dd-cc6c-4cc6-e9ff-4f6f4e6f17a9"
      },
      "execution_count": 10,
      "outputs": [
        {
          "output_type": "stream",
          "name": "stdout",
          "text": [
            "Insira uma nota ou -1 para finalizar: 5\n",
            "Insira uma nota ou -1 para finalizar: 9\n",
            "Insira uma nota ou -1 para finalizar: 7\n",
            "Insira uma nota ou -1 para finalizar: 3\n",
            "Insira uma nota ou -1 para finalizar: -1\n",
            "A média das notas é: 6.00\n"
          ]
        }
      ]
    },
    {
      "cell_type": "code",
      "source": [
        "# Atividade 08 - Sequência de Fibonacci\n",
        "def fibonacci(n):\n",
        "  sequencia = [0, 1]\n",
        "  while len(sequencia) < n:\n",
        "    next = sequencia[-1] + sequencia[-2]\n",
        "    sequencia.append(next)\n",
        "  return sequencia[:n]\n",
        "\n",
        "f = int(input(\"Insira quantos números da sequência de Fibonacci: \"))\n",
        "print(fibonacci(f))"
      ],
      "metadata": {
        "colab": {
          "base_uri": "https://localhost:8080/"
        },
        "id": "2livILvdwKL0",
        "outputId": "7a0fb6b1-5427-4200-f7e2-b0361daaaf72"
      },
      "execution_count": 11,
      "outputs": [
        {
          "output_type": "stream",
          "name": "stdout",
          "text": [
            "Insira quantos números da sequência de Fibonacci: 8\n",
            "[0, 1, 1, 2, 3, 5, 8, 13]\n"
          ]
        }
      ]
    },
    {
      "cell_type": "code",
      "source": [
        "# Atividade 09 - Ordenação de Números\n",
        "\n",
        "def sort(arr):\n",
        "    a, b, c = arr\n",
        "    if a > b:\n",
        "        a, b = b, a\n",
        "    if a > c:\n",
        "        a, c = c, a\n",
        "    if b > c:\n",
        "        b, c = c, b\n",
        "    return [a, b, c]\n",
        "\n",
        "lista = []\n",
        "for i in range(1, 4):\n",
        "  lista.append(int(input(f\"Insira o número {i}: \")))\n",
        "\n",
        "print(sort(lista))"
      ],
      "metadata": {
        "colab": {
          "base_uri": "https://localhost:8080/"
        },
        "id": "C46ylxEI1DRg",
        "outputId": "5c6b76d5-a0a5-45b8-fd57-7a561c147079"
      },
      "execution_count": 12,
      "outputs": [
        {
          "output_type": "stream",
          "name": "stdout",
          "text": [
            "Insira o número 1: 10\n",
            "Insira o número 2: 6\n",
            "Insira o número 3: 8\n",
            "[6, 8, 10]\n"
          ]
        }
      ]
    },
    {
      "cell_type": "code",
      "source": [
        "# Atividade 10 - Números Pares e Ímpares\n",
        "\n",
        "def par_impar(n):\n",
        "  if n % 2 == 0:\n",
        "    return True\n",
        "  else:\n",
        "    return False\n",
        "\n",
        "x = int(input(\"Insira um número inteiro: \"))\n",
        "if par_impar(x):\n",
        "  print(x, \"é par.\")\n",
        "else:\n",
        "  print(x, \"é ímpar.\")"
      ],
      "metadata": {
        "colab": {
          "base_uri": "https://localhost:8080/"
        },
        "id": "xCtjdgba9rXN",
        "outputId": "8ee1d4a5-71b9-4d24-d3d2-6e40ac289589"
      },
      "execution_count": 13,
      "outputs": [
        {
          "output_type": "stream",
          "name": "stdout",
          "text": [
            "Insira um número inteiro: 7\n",
            "7 é ímpar.\n"
          ]
        }
      ]
    },
    {
      "cell_type": "code",
      "source": [
        "# Atividade 11 - Cálculo de Área de Círculo\n",
        "\n",
        "import math\n",
        "\n",
        "def area(r):\n",
        "  area = math.pi * r**2\n",
        "  return area\n",
        "\n",
        "raio = float(input(\"Insira o raio do círculo: \"))\n",
        "print(f\"A área do círculo com raio {raio}, é {area(raio):.2f}.\")"
      ],
      "metadata": {
        "colab": {
          "base_uri": "https://localhost:8080/"
        },
        "id": "1XhkqMP_C0oe",
        "outputId": "67404fdb-bb00-4474-b1d7-399eac59bca3"
      },
      "execution_count": 16,
      "outputs": [
        {
          "output_type": "stream",
          "name": "stdout",
          "text": [
            "Insira o raio do círculo: 4.9\n",
            "A área do círculo com raio 4.9, é 75.43.\n"
          ]
        }
      ]
    },
    {
      "cell_type": "code",
      "source": [
        "# Atividade 12 - Jogo de Adivinhação\n",
        "\n",
        "import random\n",
        "\n",
        "def aleatorizador():\n",
        "  lista = []\n",
        "  for i in range (1, 101):\n",
        "    lista.append(i)\n",
        "  aleatorio = random.choice(lista)\n",
        "  return aleatorio\n",
        "\n",
        "def adiviacao(palpite, numero):\n",
        "  while palpite != numero:\n",
        "      try:\n",
        "        palpite = int(input(\"Insira seu palpite (entre 0 e 100): \"))\n",
        "\n",
        "        if palpite > numero:\n",
        "          print(\"Palpite maior que o número secreto. \\n\")\n",
        "        elif palpite < numero:\n",
        "          print(\"Palpite menor que o número secreto. \\n\")\n",
        "        else:\n",
        "          print(\"Papite correto! \\n\")\n",
        "\n",
        "      except ValueError:\n",
        "        print(\"Insira um palpite válido. \\n\")\n",
        "\n",
        "palpite = 0\n",
        "secreto = aleatorizador()\n",
        "adiviacao(palpite, secreto)"
      ],
      "metadata": {
        "colab": {
          "base_uri": "https://localhost:8080/"
        },
        "id": "_nr1eSjgE0Cf",
        "outputId": "94faea59-2d4d-4803-d926-ec45c80b2579"
      },
      "execution_count": 18,
      "outputs": [
        {
          "output_type": "stream",
          "name": "stdout",
          "text": [
            "Insira seu palpite (entre 0 e 100): 51\n",
            "Palpite maior que o número secreto. \n",
            "\n",
            "Insira seu palpite (entre 0 e 100): 25\n",
            "Palpite maior que o número secreto. \n",
            "\n",
            "Insira seu palpite (entre 0 e 100): 9\n",
            "Palpite maior que o número secreto. \n",
            "\n",
            "Insira seu palpite (entre 0 e 100): 3\n",
            "Palpite maior que o número secreto. \n",
            "\n",
            "Insira seu palpite (entre 0 e 100): 1\n",
            "Papite correto! \n",
            "\n"
          ]
        }
      ]
    },
    {
      "cell_type": "code",
      "source": [
        "# Atividade 13 - Soma de Números Pares\n",
        "\n",
        "soma_par = 0\n",
        "for i in range(1, 101):\n",
        "  if i % 2 == 0:\n",
        "    soma_par += i\n",
        "\n",
        "print(\"Soma dos números pares entre 1 e 100 é\", soma_par)"
      ],
      "metadata": {
        "colab": {
          "base_uri": "https://localhost:8080/"
        },
        "id": "ThP6nEwqMlqe",
        "outputId": "aea247d2-bc0f-432a-e75b-59ebd0476748"
      },
      "execution_count": 19,
      "outputs": [
        {
          "output_type": "stream",
          "name": "stdout",
          "text": [
            "Soma dos números pares entre 1 e 100 é 2550\n"
          ]
        }
      ]
    },
    {
      "cell_type": "code",
      "source": [
        "# Atividade 14 - Calculadora Simples\n",
        "\n",
        "def calculadora(a, b, op):\n",
        "  if op == \"+\":\n",
        "    return a + b\n",
        "  if op == \"-\":\n",
        "    return a - b\n",
        "  if op == \"*\":\n",
        "    return a * b\n",
        "  if op == \"/\":\n",
        "    if b != 0:\n",
        "       return a / b\n",
        "    else:\n",
        "      return \"Divisão por zero não permitida.\"\n",
        "  else:\n",
        "    return \"Operação inválida.\"\n",
        "\n",
        "n1 = float(input(\"Insira o primeiro número: \"))\n",
        "operacao = input(\"Insira o operador matemático (+, -, *, /): \")\n",
        "n2 = float(input(\"Insira o segundo número: \"))\n",
        "\n",
        "print(calculadora(n1, n2, operacao))"
      ],
      "metadata": {
        "colab": {
          "base_uri": "https://localhost:8080/"
        },
        "id": "uN54ib3NOvSx",
        "outputId": "fe1fa5a9-34e4-4c56-a97b-b97298e9908a"
      },
      "execution_count": 20,
      "outputs": [
        {
          "output_type": "stream",
          "name": "stdout",
          "text": [
            "Insira o primeiro número: 12\n",
            "Insira o operador matemático (+, -, *, /): /\n",
            "Insira o segundo número: 3\n",
            "4.0\n"
          ]
        }
      ]
    },
    {
      "cell_type": "code",
      "source": [
        "# Ativade 15 - Soma dos N primeiros Números\n",
        "\n",
        "n = int(input(\"Insira um número inteiro positivo: \"))\n",
        "soma = n/2 * (1+n)\n",
        "\n",
        "print(f\"A soma dos primeiros {n} números naturais é {soma:.0f}\")"
      ],
      "metadata": {
        "colab": {
          "base_uri": "https://localhost:8080/"
        },
        "id": "VEgaRLlJUMMu",
        "outputId": "19c1e329-f05d-497e-8c45-a565fcc21517"
      },
      "execution_count": 21,
      "outputs": [
        {
          "output_type": "stream",
          "name": "stdout",
          "text": [
            "Insira um número inteiro positivo: 21\n",
            "A soma dos primeiros 21 números naturais é 231\n"
          ]
        }
      ]
    },
    {
      "cell_type": "code",
      "source": [
        "# Atividade 16 - Inversão de String\n",
        "\n",
        "string = input(\"Digite a string a ser invertida: \")\n",
        "string_invertida = string[::-1]\n",
        "\n",
        "print(\"String invertida:\", string_invertida)"
      ],
      "metadata": {
        "colab": {
          "base_uri": "https://localhost:8080/"
        },
        "id": "ymsVPeJxVWVB",
        "outputId": "48775dde-31f3-480f-9588-8a7b977d244b"
      },
      "execution_count": 22,
      "outputs": [
        {
          "output_type": "stream",
          "name": "stdout",
          "text": [
            "Digite a string a ser invertida: Jiu-Jitsu\n",
            "String invertida: ustiJ-uiJ\n"
          ]
        }
      ]
    },
    {
      "cell_type": "code",
      "source": [
        "# Atividade 17 - Verificação de Número Perfeito\n",
        "\n",
        "def verificador(p):\n",
        "  arr = []\n",
        "  for i in range(1, p):\n",
        "    if p % i == 0:\n",
        "      arr.append(i)\n",
        "  if sum(arr) == p:\n",
        "    return True\n",
        "\n",
        "n = int(input(\"Insira um número: \"))\n",
        "\n",
        "if verificador(n):\n",
        "  print(n, \"é um número perfeito.\")\n",
        "else:\n",
        "  print(n, \"não é um número perfeito.\")"
      ],
      "metadata": {
        "colab": {
          "base_uri": "https://localhost:8080/"
        },
        "id": "1Jwt-WO8Wh04",
        "outputId": "019e92c1-4f77-4b2e-e68b-4a286e36d948"
      },
      "execution_count": 24,
      "outputs": [
        {
          "output_type": "stream",
          "name": "stdout",
          "text": [
            "Insira um número: 496\n",
            "496 é um número perfeito.\n"
          ]
        }
      ]
    },
    {
      "cell_type": "code",
      "source": [
        "# Atividade 18 - Contagem de Palavras\n",
        "\n",
        "frase = input(\"Insira uma frase: \")\n",
        "palavras = frase.split()\n",
        "\n",
        "print(f\"A frase contém {len(palavras)} palavras.\")"
      ],
      "metadata": {
        "colab": {
          "base_uri": "https://localhost:8080/"
        },
        "id": "1dTYAiqUZxQV",
        "outputId": "1637efd3-99d8-4e31-8159-566d691b22eb"
      },
      "execution_count": 25,
      "outputs": [
        {
          "output_type": "stream",
          "name": "stdout",
          "text": [
            "Insira uma frase: Três pratos de trigo para três tigres tristes.\n",
            "A frase contém 8 palavras.\n"
          ]
        }
      ]
    },
    {
      "cell_type": "code",
      "source": [
        "# Atividade 19 - Média Ponderada\n",
        "\n",
        "nota1 = float(input(\"Insira a nota com peso 2: \"))\n",
        "nota2 = float(input(\"Insira a nota com peso 3: \"))\n",
        "nota3 = float(input(\"Insira a nota com peso 5: \"))\n",
        "\n",
        "mediap = (nota1*2 + nota2*3 + nota3*5)/10\n",
        "\n",
        "print(f\"A média ponderada das notas é {mediap}\")\n"
      ],
      "metadata": {
        "colab": {
          "base_uri": "https://localhost:8080/"
        },
        "id": "ijlbbk_rc90e",
        "outputId": "5abcd265-f886-48fb-9d53-61de74928017"
      },
      "execution_count": 26,
      "outputs": [
        {
          "output_type": "stream",
          "name": "stdout",
          "text": [
            "Insira a nota com peso 2: 2\n",
            "Insira a nota com peso 3: 8\n",
            "Insira a nota com peso 5: 5\n",
            "A média ponderada das notas é 5.3\n"
          ]
        }
      ]
    },
    {
      "cell_type": "code",
      "source": [
        "# Atividade 20: Análise de Lista de Números\n",
        "\n",
        "lista = []\n",
        "while True:\n",
        "  try:\n",
        "    n = float(input(\"Insira números ou pressione apenas ENTER para encerrar: \"))\n",
        "    lista.append(n)\n",
        "  except ValueError:\n",
        "    break\n",
        "\n",
        "if lista:\n",
        "  maior = max(lista)\n",
        "  menor = min(lista)\n",
        "  media = sum(lista)/len(lista)\n",
        "\n",
        "  print(f\"\\nO maior número é: {maior}\")\n",
        "  print(f\"O menor número é: {menor}\")\n",
        "  print(f\"A média dos número é: {media:.2f}\")\n",
        "else:\n",
        "  print(\"Nenhum número inserido.\")"
      ],
      "metadata": {
        "colab": {
          "base_uri": "https://localhost:8080/"
        },
        "id": "_q0cpLxFftId",
        "outputId": "192eb9c5-dbad-4a42-8707-9980186dd5d9"
      },
      "execution_count": 27,
      "outputs": [
        {
          "output_type": "stream",
          "name": "stdout",
          "text": [
            "Insira números ou pressione apenas ENTER para encerrar: 4\n",
            "Insira números ou pressione apenas ENTER para encerrar: 2\n",
            "Insira números ou pressione apenas ENTER para encerrar: 3\n",
            "Insira números ou pressione apenas ENTER para encerrar: 10\n",
            "Insira números ou pressione apenas ENTER para encerrar: \n",
            "\n",
            "O maior número é: 10.0\n",
            "O menor número é: 2.0\n",
            "A média dos número é: 4.75\n"
          ]
        }
      ]
    }
  ]
}